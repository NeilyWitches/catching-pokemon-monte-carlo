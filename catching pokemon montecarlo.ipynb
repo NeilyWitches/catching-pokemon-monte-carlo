{
 "cells": [
  {
   "cell_type": "code",
   "execution_count": 43,
   "metadata": {},
   "outputs": [],
   "source": [
    "import csv\n",
    "import random"
   ]
  },
  {
   "cell_type": "code",
   "execution_count": 152,
   "metadata": {},
   "outputs": [],
   "source": [
    "def sim():\n",
    "    n = random.randrange(0,256)\n",
    "    if n > 3:\n",
    "        caught = False\n",
    "    else:\n",
    "        caught = True\n",
    "    \n",
    "    list = [caught, n]\n",
    "    return list\n",
    "    "
   ]
  },
  {
   "cell_type": "code",
   "execution_count": 153,
   "metadata": {},
   "outputs": [],
   "source": [
    "def tries_until_success():\n",
    "    caught = [False, None]\n",
    "    throws = 0\n",
    "    while caught[0] == False:\n",
    "        throws += 1\n",
    "        caught = sim()\n",
    "        \n",
    "    list = [throws, caught[1]]\n",
    "    return list"
   ]
  },
  {
   "cell_type": "code",
   "execution_count": 171,
   "metadata": {},
   "outputs": [
    {
     "data": {
      "text/plain": [
       "[14, 0]"
      ]
     },
     "execution_count": 171,
     "metadata": {},
     "output_type": "execute_result"
    }
   ],
   "source": [
    "tries_until_success()"
   ]
  },
  {
   "cell_type": "code",
   "execution_count": 225,
   "metadata": {},
   "outputs": [],
   "source": [
    "import random\n",
    "\n",
    "def throw(ball_type, status, hp_max, hp_current, catch_rate):\n",
    "    caught = False\n",
    "    threshold = 0\n",
    "    if ball_type == \"master\":\n",
    "        caught = True\n",
    "        return caught\n",
    "    elif ball_type == \"poke\":\n",
    "        n = random.randrange(0,256)\n",
    "    elif ball_type == \"great\":\n",
    "        n = random.randrange(0,201)\n",
    "    else:\n",
    "        n = random.randrange(0,151)\n",
    "    if status == \"asleep\" or status == \"frozen\":\n",
    "        threshold = 25\n",
    "    elif status == \"paralyzed\" or status == \"burned\" or status == \"poisoned\":\n",
    "        threshold = 12\n",
    "    if n < threshold:\n",
    "        caught = True\n",
    "    else:\n",
    "        if n - threshold > catch_rate:\n",
    "            caught = False\n",
    "        else:\n",
    "            m = random.randrange(0,256)\n",
    "            if ball_type == \"great\":\n",
    "                ball = 8\n",
    "            else:\n",
    "                ball = 12\n",
    "            f = int(hp_max*255*4/(hp_current*ball))\n",
    "            if f >= m:\n",
    "                caught = True\n",
    "            else:\n",
    "                caught = False\n",
    "                \n",
    "    list = [caught, n]\n",
    "    \n",
    "    return caught\n",
    "\n",
    "def prob(throws, ball_type, status, hp_max, hp_current, catch_rate):\n",
    "    list = [None]*throws\n",
    "    count = 0\n",
    "\n",
    "    for i in range(throws):\n",
    "        list[i] = throw(ball_type, status, hp_max, hp_current, catch_rate)\n",
    "        if list[i] == True:\n",
    "            count += 1\n",
    "\n",
    "    probability = count/throws\n",
    "    expecation = 1/probability\n",
    "    return expecation\n",
    "\n",
    "#print(prob(100, \"great\", \"burned\", 135, 30, 30))\n",
    "\n",
    "def throws_until_caught(ball_type, status, hp_max, hp_current, catch_rate):\n",
    "    caught = False\n",
    "    throws = 0\n",
    "    while caught == False:\n",
    "        throws += 1\n",
    "        caught = throw(ball_type, status, hp_max, hp_current, catch_rate)\n",
    "    \n",
    "    return throws\n",
    "\n",
    "\n",
    "def expectation(ball_type, status, hp_max, hp_current, catch_rate, trials):\n",
    "    list = [None]*trials\n",
    "    for i in range(trials):\n",
    "        list[i] = throws_until_caught(ball_type, status, hp_max, hp_current, catch_rate)\n",
    "\n",
    "    mean = sum(list)/trials\n",
    "    return mean\n",
    "\n",
    "def collect_samples(ball_type, status, hp_max, hp_current, catch_rate, trials, samples):\n",
    "    list = [None]*samples\n",
    "    for i in range(samples):\n",
    "        list[i] = round(expectation(ball_type, status, hp_max, hp_current, catch_rate, trials),1)\n",
    "    \n",
    "    return list"
   ]
  },
  {
   "cell_type": "code",
   "execution_count": 234,
   "metadata": {},
   "outputs": [],
   "source": [
    "list = sorted(collect_samples(\"ultra\", \"frozen\", 100, 1, 3, 500, 500))"
   ]
  },
  {
   "cell_type": "code",
   "execution_count": 235,
   "metadata": {},
   "outputs": [],
   "source": [
    "dictionary2 = dict.fromkeys(list, 0)"
   ]
  },
  {
   "cell_type": "code",
   "execution_count": 236,
   "metadata": {},
   "outputs": [],
   "source": [
    "for i in range(len(list)):\n",
    "    if list[i] in dictionary2:\n",
    "        dictionary2[list[i]] += 1"
   ]
  },
  {
   "cell_type": "code",
   "execution_count": 237,
   "metadata": {},
   "outputs": [
    {
     "data": {
      "text/plain": [
       "{4.7: 1,\n",
       " 4.8: 19,\n",
       " 4.9: 37,\n",
       " 5.0: 61,\n",
       " 5.1: 88,\n",
       " 5.2: 101,\n",
       " 5.3: 78,\n",
       " 5.4: 61,\n",
       " 5.5: 23,\n",
       " 5.6: 21,\n",
       " 5.7: 3,\n",
       " 5.8: 5,\n",
       " 5.9: 1,\n",
       " 6.0: 1}"
      ]
     },
     "execution_count": 237,
     "metadata": {},
     "output_type": "execute_result"
    }
   ],
   "source": [
    "dictionary2"
   ]
  },
  {
   "cell_type": "code",
   "execution_count": 190,
   "metadata": {},
   "outputs": [
    {
     "data": {
      "text/plain": [
       "False"
      ]
     },
     "execution_count": 190,
     "metadata": {},
     "output_type": "execute_result"
    }
   ],
   "source": [
    "throw(\"poke\", \"asleep\", 100, 100, 3)"
   ]
  },
  {
   "cell_type": "code",
   "execution_count": 220,
   "metadata": {
    "scrolled": true
   },
   "outputs": [
    {
     "data": {
      "text/plain": [
       "4"
      ]
     },
     "execution_count": 220,
     "metadata": {},
     "output_type": "execute_result"
    }
   ],
   "source": [
    "throws_until_caught(\"poke\", \"frozen\", 100, 100, 3)"
   ]
  },
  {
   "cell_type": "code",
   "execution_count": 6,
   "metadata": {},
   "outputs": [],
   "source": [
    "with open('catchrate1.csv', 'w') as f:\n",
    "    for key in dictionary.keys():\n",
    "        f.write(\"%s,%s\\n\"%(key,dictionary[key]))"
   ]
  }
 ],
 "metadata": {
  "kernelspec": {
   "display_name": "Python 3",
   "language": "python",
   "name": "python3"
  },
  "language_info": {
   "codemirror_mode": {
    "name": "ipython",
    "version": 3
   },
   "file_extension": ".py",
   "mimetype": "text/x-python",
   "name": "python",
   "nbconvert_exporter": "python",
   "pygments_lexer": "ipython3",
   "version": "3.7.3"
  }
 },
 "nbformat": 4,
 "nbformat_minor": 2
}
