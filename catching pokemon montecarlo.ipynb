{
 "cells": [
  {
   "cell_type": "code",
   "execution_count": 10,
   "metadata": {},
   "outputs": [],
   "source": [
    "import csv"
   ]
  },
  {
   "cell_type": "code",
   "execution_count": 23,
   "metadata": {},
   "outputs": [],
   "source": [
    "import random\n",
    "\n",
    "def throw(ball_type, status, hp_max, hp_current, catch_rate):\n",
    "    caught = False\n",
    "    if ball_type == \"master\":\n",
    "        caught = True\n",
    "        return caught\n",
    "    elif ball_type == \"poke\":\n",
    "        n = random.randrange(0,256)\n",
    "    elif ball_type == \"great\":\n",
    "        n = random.randrange(0,256)\n",
    "    else:\n",
    "        n = random.randrange(0,151)\n",
    "    if status == \"asleep\" or \"frozen\":\n",
    "        threshold = 25\n",
    "    elif status == \"paralyzed\" or \"burned\" or \"poisoned\":\n",
    "        threshold = 12\n",
    "    else:\n",
    "        threshold = 0\n",
    "    if n < threshold:\n",
    "        caught = True\n",
    "    else:\n",
    "        if n - threshold > catch_rate:\n",
    "            caught = False\n",
    "        else:\n",
    "            m = random.randrange(0,256)\n",
    "            if ball_type == \"great\":\n",
    "                ball = 8\n",
    "            else:\n",
    "                ball = 12\n",
    "            f = hp_max*255*4/(hp_current*ball)\n",
    "            if f >= m:\n",
    "                caught = True\n",
    "            else:\n",
    "                caught = False\n",
    "    return caught\n",
    "\n",
    "def prob(throws, ball_type, status, hp_max, hp_current, catch_rate):\n",
    "    list = [None]*throws\n",
    "    count = 0\n",
    "\n",
    "    for i in range(throws):\n",
    "        list[i] = throw(ball_type, status, hp_max, hp_current, catch_rate)\n",
    "        if list[i] == True:\n",
    "            count += 1\n",
    "\n",
    "    probability = count/throws\n",
    "    expecation = 1/probability\n",
    "    return expecation\n",
    "\n",
    "#print(prob(100, \"great\", \"burned\", 135, 30, 30))\n",
    "\n",
    "def throws_until_caught(ball_type, status, hp_max, hp_current, catch_rate):\n",
    "    caught = False\n",
    "    throws = 0\n",
    "    while caught == False:\n",
    "        throws += 1\n",
    "        caught = throw(ball_type, status, hp_max, hp_current, catch_rate)\n",
    "    return throws\n",
    "\n",
    "\n",
    "def expectation(ball_type, status, hp_max, hp_current, catch_rate, trials):\n",
    "    list = [None]*trials\n",
    "    for i in range(trials):\n",
    "        list[i] = throws_until_caught(ball_type, status, hp_max, hp_current, catch_rate)\n",
    "\n",
    "    mean = sum(list)/trials\n",
    "    return mean\n",
    "\n",
    "def collect_samples(ball_type, status, hp_max, hp_current, catch_rate, trials, samples):\n",
    "    list = [None]*samples\n",
    "    for i in range(samples):\n",
    "        list[i] = round(expectation(ball_type, status, hp_max, hp_current, catch_rate, trials), 1)\n",
    "    \n",
    "    mean = sum(list)/samples\n",
    "    return mean"
   ]
  },
  {
   "cell_type": "code",
   "execution_count": null,
   "metadata": {},
   "outputs": [],
   "source": [
    "list = sorted(collect_samples(\"poke\", \"none\", 100, 100, 1, 500, 500))"
   ]
  },
  {
   "cell_type": "code",
   "execution_count": 17,
   "metadata": {},
   "outputs": [],
   "source": [
    "dictionary = dict.fromkeys(list, 0)"
   ]
  },
  {
   "cell_type": "code",
   "execution_count": 19,
   "metadata": {},
   "outputs": [],
   "source": [
    "for i in range(len(list)):\n",
    "    if list[i] in dictionary:\n",
    "        dictionary[list[i]] += 1"
   ]
  },
  {
   "cell_type": "code",
   "execution_count": 21,
   "metadata": {},
   "outputs": [],
   "source": [
    "with open('test.csv', 'w') as f:\n",
    "    for key in dictionary2.keys():\n",
    "        f.write(\"%s,%s\\n\"%(key,dictionary2[key]))"
   ]
  },
  {
   "cell_type": "code",
   "execution_count": null,
   "metadata": {},
   "outputs": [],
   "source": []
  }
 ],
 "metadata": {
  "kernelspec": {
   "display_name": "Python 3",
   "language": "python",
   "name": "python3"
  },
  "language_info": {
   "codemirror_mode": {
    "name": "ipython",
    "version": 3
   },
   "file_extension": ".py",
   "mimetype": "text/x-python",
   "name": "python",
   "nbconvert_exporter": "python",
   "pygments_lexer": "ipython3",
   "version": "3.7.3"
  }
 },
 "nbformat": 4,
 "nbformat_minor": 2
}
