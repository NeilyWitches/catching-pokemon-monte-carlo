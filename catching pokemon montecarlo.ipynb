{
 "cells": [
  {
   "cell_type": "code",
   "execution_count": 307,
   "metadata": {},
   "outputs": [],
   "source": [
    "import csv"
   ]
  },
  {
   "cell_type": "code",
   "execution_count": 337,
   "metadata": {},
   "outputs": [],
   "source": [
    "import random\n",
    "\n",
    "def throw(ball_type, status, hp_max, hp_current, catch_rate):\n",
    "    caught = False\n",
    "    threshold = 0\n",
    "    if ball_type == \"master\":\n",
    "        caught = True\n",
    "        return caught\n",
    "    elif ball_type == \"poke\":\n",
    "        n = random.randrange(0,256)\n",
    "    elif ball_type == \"great\":\n",
    "        n = random.randrange(0,201)\n",
    "    else:\n",
    "        n = random.randrange(0,151)\n",
    "    if status == \"asleep\" or status == \"frozen\":\n",
    "        threshold = 25\n",
    "    elif status == \"paralyzed\" or status == \"burned\" or status == \"poisoned\":\n",
    "        threshold = 12\n",
    "    if n < threshold:\n",
    "        caught = True\n",
    "    else:\n",
    "        if n - threshold > catch_rate:\n",
    "            caught = False\n",
    "        else:\n",
    "            m = random.randrange(0,256)\n",
    "            if ball_type == \"great\":\n",
    "                ball = 8\n",
    "            else:\n",
    "                ball = 12\n",
    "            f = int(hp_max*255*4/(hp_current*ball))\n",
    "            if f >= m:\n",
    "                caught = True\n",
    "            else:\n",
    "                caught = False\n",
    "                \n",
    "    list = [caught, n]\n",
    "    \n",
    "    return caught\n",
    "\n",
    "def prob(throws, ball_type, status, hp_max, hp_current, catch_rate):\n",
    "    list = [None]*throws\n",
    "    count = 0\n",
    "\n",
    "    for i in range(throws):\n",
    "        list[i] = throw(ball_type, status, hp_max, hp_current, catch_rate)\n",
    "        if list[i] == True:\n",
    "            count += 1\n",
    "\n",
    "    probability = count/throws\n",
    "    expecation = 1/probability\n",
    "    return expecation\n",
    "\n",
    "#print(prob(100, \"great\", \"burned\", 135, 30, 30))\n",
    "\n",
    "def throws_until_caught(ball_type, status, hp_max, hp_current, catch_rate):\n",
    "    caught = False\n",
    "    throws = 0\n",
    "    while caught == False:\n",
    "        throws += 1\n",
    "        caught = throw(ball_type, status, hp_max, hp_current, catch_rate)\n",
    "    \n",
    "    return throws\n",
    "\n",
    "\n",
    "def expectation(ball_type, status, hp_max, hp_current, catch_rate, trials):\n",
    "    list = [None]*trials\n",
    "    for i in range(trials):\n",
    "        list[i] = round(throws_until_caught(ball_type, status, hp_max, hp_current, catch_rate))\n",
    "\n",
    "    mean = sum(list)/trials\n",
    "    return mean\n",
    "\n",
    "def collect_samples(ball_type, status, hp_max, hp_current, catch_rate, trials, samples):\n",
    "    list = [None]*samples\n",
    "    for i in range(samples):\n",
    "        list[i] = round(expectation(ball_type, status, hp_max, hp_current, catch_rate, trials))\n",
    "    \n",
    "    return list"
   ]
  },
  {
   "cell_type": "code",
   "execution_count": 372,
   "metadata": {},
   "outputs": [],
   "source": [
    "list = sorted(collect_samples(\"poke\", \"frozen\", 100, 1, 3, 500, 100))"
   ]
  },
  {
   "cell_type": "code",
   "execution_count": 373,
   "metadata": {},
   "outputs": [],
   "source": [
    "frozenhp = dict.fromkeys(list, 0)"
   ]
  },
  {
   "cell_type": "code",
   "execution_count": 374,
   "metadata": {},
   "outputs": [],
   "source": [
    "for i in range(len(list)):\n",
    "    if list[i] in frozenhp:\n",
    "        frozenhp[list[i]] += 1"
   ]
  },
  {
   "cell_type": "code",
   "execution_count": 375,
   "metadata": {},
   "outputs": [
    {
     "data": {
      "text/plain": [
       "{8: 20, 9: 75, 10: 5}"
      ]
     },
     "execution_count": 375,
     "metadata": {},
     "output_type": "execute_result"
    }
   ],
   "source": [
    "frozenhp"
   ]
  },
  {
   "cell_type": "code",
   "execution_count": 376,
   "metadata": {},
   "outputs": [],
   "source": [
    "with open('frozenhp.csv', 'w') as f:\n",
    "    for key in frozenhp.keys():\n",
    "        f.write(\"%s,%s\\n\"%(key,frozenhp[key]))"
   ]
  },
  {
   "cell_type": "code",
   "execution_count": null,
   "metadata": {},
   "outputs": [],
   "source": []
  }
 ],
 "metadata": {
  "kernelspec": {
   "display_name": "Python 3",
   "language": "python",
   "name": "python3"
  },
  "language_info": {
   "codemirror_mode": {
    "name": "ipython",
    "version": 3
   },
   "file_extension": ".py",
   "mimetype": "text/x-python",
   "name": "python",
   "nbconvert_exporter": "python",
   "pygments_lexer": "ipython3",
   "version": "3.7.3"
  }
 },
 "nbformat": 4,
 "nbformat_minor": 2
}
